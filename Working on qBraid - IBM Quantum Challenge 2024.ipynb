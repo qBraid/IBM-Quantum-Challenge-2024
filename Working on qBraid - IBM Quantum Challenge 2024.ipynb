{
 "cells": [
  {
   "cell_type": "markdown",
   "id": "8f168822-4bdb-45e3-bbfe-c5924a9271bc",
   "metadata": {},
   "source": [
    "# Working on qBraid - IBM Quantum Challenge 2024\n",
    "\n",
    "Here you will learn the details on how to use qBraid lab for IBM Quantum Challenge 2024.\n",
    "\n",
    "[<img src=\"https://qbraid-static.s3.amazonaws.com/logos/Launch_on_qBraid_white.png\" width=\"150\">](https://account.qbraid.com?gitHubUrl=https://github.com/qiskit-community/ibm-quantum-challenge-2024.git)\n",
    "\n",
    "1. To launch challenge materials on qBraid, click the above Launch on qBraid button. It will take you to your qBraid Lab with the challenge repository cloned. Once cloning finished, you can click `content` folder and open lab files."
   ]
  },
  {
   "cell_type": "markdown",
   "id": "6389375d-8561-4edd-b1db-f1f84da6e9d8",
   "metadata": {},
   "source": [
    "2. Use the environment manager (**ENVS** tab in the right sidebar) to [install environment](https://docs.qbraid.com/projects/lab/en/latest/lab/environments.html) \"IBM Quantum Challenge 2024\". <img src=\"./assets/add_env_1.png\" align=\"center\" width=\"60%\" >  \n",
    "\n",
    "3. You can find \"IBM Quantum Challenge 2024\" Environment by search, then click purple install button. The installation should take ~2 min.\n",
    "<img src=\"./assets/add_env_2.png\" align=\"center\" width=\"30%\" >  \n",
    "\n",
    "\n",
    "\n",
    "4. Once the installation finished, you can use that environment by 1) using launcher and 2) by changing kernel of jupyter notebook.\n",
    "\n",
    "- You can see `Launcher` at the most left side of notebooks, and you can start jupyter notebook with IBM quantum challenge environment by clicking python3 ibm button like below. \n",
    "\n",
    "<img src=\"./assets/activate_env_1.png\" align=\"center\" width=\"40%\" > \n",
    "\n",
    "- Instead of IBM Quantum Challenge 24, you may also see IBM-QC24\n",
    "\n",
    "- Also, you can change kernal of already opend jupyter notebook by clicking \"Python 3[Default]\" at top right and change it to \"IBM Quantum Challenge 24\" or \"IBM-QC24\" to change kernel for your notebook. \n",
    "\n",
    "<img src=\"./assets/activate_env_2.png\" align=\"center\" width=\"40%\" > "
   ]
  },
  {
   "cell_type": "markdown",
   "id": "67ece1c2-c6f7-4ee5-8e52-2dedb0fc26b1",
   "metadata": {},
   "source": [
    "5. Before start coding with qBraid lab, you need to install challenge grader by executing below cell."
   ]
  },
  {
   "cell_type": "code",
   "execution_count": null,
   "id": "7f7c4734-50bb-46c4-9849-2f51bc0bf6b2",
   "metadata": {},
   "outputs": [],
   "source": [
    "%pip install git+https://github.com/qiskit-community/Quantum-Challenge-Grader.git"
   ]
  },
  {
   "cell_type": "markdown",
   "id": "8f4d6951-c31b-496c-a52f-71d7222b0e84",
   "metadata": {},
   "source": [
    "Now all set! Enjoy IBM Quantum Challenge with qBraid and hope to see you at the event discord!"
   ]
  },
  {
   "cell_type": "markdown",
   "id": "3cb22f76-1c32-4fe9-aff2-0dad16091103",
   "metadata": {},
   "source": [
    "**Extra**\n",
    "\n",
    "You can open each challenge lab folders by clicking below buttons after each lab released officially.\n",
    "\n",
    "1. lab0 - [<img src=\"https://qbraid-static.s3.amazonaws.com/logos/Launch_on_qBraid_white.png\" width=\"150\">](https://account.qbraid.com/?gitHubUrl=https://github.com/qiskit-community/ibm-quantum-challenge-2024.git&redirectUrl=/content/lab_0/)\n",
    "\n",
    "2. lab1 - [<img src=\"https://qbraid-static.s3.amazonaws.com/logos/Launch_on_qBraid_white.png\" width=\"150\">](https://account.qbraid.com/?gitHubUrl=https://github.com/qiskit-community/ibm-quantum-challenge-2024.git&redirectUrl=/content/lab_1/)\n",
    "\n",
    "3. lab2 - [<img src=\"https://qbraid-static.s3.amazonaws.com/logos/Launch_on_qBraid_white.png\" width=\"150\">](https://account.qbraid.com/?gitHubUrl=https://github.com/qiskit-community/ibm-quantum-challenge-2024.git&redirectUrl=/content/lab_2/)\n"
   ]
  },
  {
   "cell_type": "code",
   "execution_count": null,
   "id": "eab82acb-3fbd-4d7f-8f12-58be00023385",
   "metadata": {},
   "outputs": [],
   "source": []
  }
 ],
 "metadata": {
  "kernelspec": {
   "display_name": "Python 3 [Default]",
   "language": "python",
   "name": "python3"
  },
  "language_info": {
   "codemirror_mode": {
    "name": "ipython",
    "version": 3
   },
   "file_extension": ".py",
   "mimetype": "text/x-python",
   "name": "python",
   "nbconvert_exporter": "python",
   "pygments_lexer": "ipython3",
   "version": "3.11.9"
  }
 },
 "nbformat": 4,
 "nbformat_minor": 5
}
